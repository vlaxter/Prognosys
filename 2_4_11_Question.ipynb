{
  "nbformat": 4,
  "nbformat_minor": 0,
  "metadata": {
    "accelerator": "GPU",
    "colab": {
      "name": "2-4-11-Question.ipynb",
      "provenance": [],
      "include_colab_link": true
    },
    "kernelspec": {
      "display_name": "Python 3",
      "language": "python",
      "name": "python3"
    },
    "language_info": {
      "codemirror_mode": {
        "name": "ipython",
        "version": 3
      },
      "file_extension": ".py",
      "mimetype": "text/x-python",
      "name": "python",
      "nbconvert_exporter": "python",
      "pygments_lexer": "ipython3",
      "version": "3.6.9"
    }
  },
  "cells": [
    {
      "cell_type": "markdown",
      "metadata": {
        "id": "view-in-github",
        "colab_type": "text"
      },
      "source": [
        "<a href=\"https://colab.research.google.com/github/vlaxter/Prognosys/blob/master/2_4_11_Question.ipynb\" target=\"_parent\"><img src=\"https://colab.research.google.com/assets/colab-badge.svg\" alt=\"Open In Colab\"/></a>"
      ]
    },
    {
      "cell_type": "markdown",
      "metadata": {
        "id": "ktqTCGHJw-ws"
      },
      "source": [
        "# Bean Disease Classifier\n",
        "For this assignment you'll take what you've learned so far and build a classifier for bean disease. You'll be provided with training and validation data based on 224x224 pixel color images taken of bean plants in Uganda. These images show healthy bean leaves as well as 2 types of common disease: bean rust and angular leaf spots. Your job will be to build a neural network that can tell the difference between the healthy and diseased leaves.\n",
        "\n",
        "We start by setting up the problem for you."
      ]
    },
    {
      "cell_type": "code",
      "metadata": {
        "id": "wmnkg6vGbX1t"
      },
      "source": [
        "# Do not change this code\n",
        "try:\n",
        "  # %tensorflow_version only exists in Colab.\n",
        "  %tensorflow_version 2.x\n",
        "except Exception:\n",
        "  pass"
      ],
      "execution_count": null,
      "outputs": []
    },
    {
      "cell_type": "code",
      "metadata": {
        "id": "njf4YhwFb6hW",
        "outputId": "cc8ebccd-ebcf-45e3-b6a6-b490e4d9d698",
        "colab": {
          "base_uri": "https://localhost:8080/"
        }
      },
      "source": [
        "# Do not change this code\n",
        "!wget --no-check-certificate \\\n",
        "    https://storage.googleapis.com/ibeans/train.zip \\\n",
        "    -O /tmp/train.zip\n",
        "\n",
        "!wget --no-check-certificate \\\n",
        "    https://storage.googleapis.com/ibeans/validation.zip \\\n",
        "    -O /tmp/validation.zip\n",
        "\n",
        "!wget --no-check-certificate \\\n",
        "    https://storage.googleapis.com/ibeans/test.zip \\\n",
        "    -O /tmp/test.zip"
      ],
      "execution_count": null,
      "outputs": [
        {
          "output_type": "stream",
          "text": [
            "--2020-11-13 03:58:45--  https://storage.googleapis.com/ibeans/train.zip\n",
            "Resolving storage.googleapis.com (storage.googleapis.com)... 172.217.8.16, 172.217.13.240, 172.217.15.80, ...\n",
            "Connecting to storage.googleapis.com (storage.googleapis.com)|172.217.8.16|:443... connected.\n",
            "HTTP request sent, awaiting response... 200 OK\n",
            "Length: 143812152 (137M) [application/zip]\n",
            "Saving to: ‘/tmp/train.zip’\n",
            "\n",
            "/tmp/train.zip      100%[===================>] 137.15M  76.9MB/s    in 1.8s    \n",
            "\n",
            "2020-11-13 03:58:47 (76.9 MB/s) - ‘/tmp/train.zip’ saved [143812152/143812152]\n",
            "\n",
            "--2020-11-13 03:58:47--  https://storage.googleapis.com/ibeans/validation.zip\n",
            "Resolving storage.googleapis.com (storage.googleapis.com)... 172.217.8.16, 172.217.13.240, 172.217.7.208, ...\n",
            "Connecting to storage.googleapis.com (storage.googleapis.com)|172.217.8.16|:443... connected.\n",
            "HTTP request sent, awaiting response... 200 OK\n",
            "Length: 18504213 (18M) [application/zip]\n",
            "Saving to: ‘/tmp/validation.zip’\n",
            "\n",
            "/tmp/validation.zip 100%[===================>]  17.65M  60.3MB/s    in 0.3s    \n",
            "\n",
            "2020-11-13 03:58:48 (60.3 MB/s) - ‘/tmp/validation.zip’ saved [18504213/18504213]\n",
            "\n",
            "--2020-11-13 03:58:48--  https://storage.googleapis.com/ibeans/test.zip\n",
            "Resolving storage.googleapis.com (storage.googleapis.com)... 172.217.7.240, 172.217.15.80, 172.217.7.176, ...\n",
            "Connecting to storage.googleapis.com (storage.googleapis.com)|172.217.7.240|:443... connected.\n",
            "HTTP request sent, awaiting response... 200 OK\n",
            "Length: 17708541 (17M) [application/zip]\n",
            "Saving to: ‘/tmp/test.zip’\n",
            "\n",
            "/tmp/test.zip       100%[===================>]  16.89M  --.-KB/s    in 0.1s    \n",
            "\n",
            "2020-11-13 03:58:48 (129 MB/s) - ‘/tmp/test.zip’ saved [17708541/17708541]\n",
            "\n"
          ],
          "name": "stdout"
        }
      ]
    },
    {
      "cell_type": "code",
      "metadata": {
        "id": "KscpTrSWcK1T"
      },
      "source": [
        "# Do not change this code\n",
        "import os\n",
        "import zipfile\n",
        "\n",
        "local_zip = '/tmp/train.zip'\n",
        "zip_ref = zipfile.ZipFile(local_zip, 'r')\n",
        "zip_ref.extractall('/tmp')\n",
        "local_zip = '/tmp/validation.zip'\n",
        "zip_ref = zipfile.ZipFile(local_zip, 'r')\n",
        "zip_ref.extractall('/tmp')\n",
        "local_zip = '/tmp/test.zip'\n",
        "zip_ref = zipfile.ZipFile(local_zip, 'r')\n",
        "zip_ref.extractall('/tmp/test')\n",
        "zip_ref.close()"
      ],
      "execution_count": null,
      "outputs": []
    },
    {
      "cell_type": "code",
      "metadata": {
        "id": "W2PoOpi2pBdD",
        "outputId": "b77c28ed-b0ff-4954-e98f-5125e34bf2b7",
        "colab": {
          "base_uri": "https://localhost:8080/"
        }
      },
      "source": [
        "import glob\n",
        "glob.glob(\"/tmp/*\")"
      ],
      "execution_count": null,
      "outputs": [
        {
          "output_type": "execute_result",
          "data": {
            "text/plain": [
              "['/tmp/test',\n",
              " '/tmp/train',\n",
              " '/tmp/train.zip',\n",
              " '/tmp/__pycache__',\n",
              " '/tmp/validation',\n",
              " '/tmp/test.zip',\n",
              " '/tmp/tmp5foqa56k.py',\n",
              " '/tmp/validation.zip',\n",
              " '/tmp/tmpcx_4x1zn.py']"
            ]
          },
          "metadata": {
            "tags": []
          },
          "execution_count": 14
        }
      ]
    },
    {
      "cell_type": "markdown",
      "metadata": {
        "id": "-3iOhyInnmmy"
      },
      "source": [
        "Now you need to define a generator to process the data we have loaded in Colab so that our model can use it for training. As we showed in the previous video you'll first have to define an ```ImageDataGenerator``` and then flow the data into it.\n",
        "\n",
        "*A hint: You don't want abnormal data!*"
      ]
    },
    {
      "cell_type": "code",
      "metadata": {
        "id": "jCiSd248caB4",
        "outputId": "f0e2442d-0d66-49a8-f2cc-9cf1b7ee5a1b",
        "colab": {
          "base_uri": "https://localhost:8080/"
        }
      },
      "source": [
        "from tensorflow.keras.preprocessing.image import ImageDataGenerator\n",
        "\n",
        "train_datagen = ImageDataGenerator(\n",
        "    rescale=1./255,\n",
        "    rotation_range=40,\n",
        "    width_shift_range=0.2,\n",
        "    height_shift_range=0.2,\n",
        "    shear_range=0.2,\n",
        "    zoom_range=0.2,\n",
        "    horizontal_flip=True,\n",
        "    fill_mode='nearest'\n",
        ")\n",
        "\n",
        "validation_datagen = ImageDataGenerator(\n",
        "    rescale=1./255,\n",
        ")\n",
        "\n",
        "TRAIN_DIRECTORY_LOCATION = '/tmp/train/'\n",
        "VAL_DIRECTORY_LOCATION = '/tmp/validation'\n",
        "TARGET_SIZE = (224,224)\n",
        "#CLASS_MODE = \"binary\" \n",
        "CLASS_MODE = \"categorical\"\n",
        "\n",
        "train_generator = train_datagen.flow_from_directory(\n",
        "    TRAIN_DIRECTORY_LOCATION,\n",
        "    target_size = TARGET_SIZE,  \n",
        "    batch_size = 128,\n",
        "    class_mode = CLASS_MODE\n",
        ")\n",
        "\n",
        "validation_generator = train_datagen.flow_from_directory(\n",
        "    VAL_DIRECTORY_LOCATION,\n",
        "    target_size = TARGET_SIZE,  \n",
        "    batch_size = 128,\n",
        "    class_mode = CLASS_MODE\n",
        ")"
      ],
      "execution_count": null,
      "outputs": [
        {
          "output_type": "stream",
          "text": [
            "Found 1034 images belonging to 3 classes.\n",
            "Found 133 images belonging to 3 classes.\n"
          ],
          "name": "stdout"
        }
      ]
    },
    {
      "cell_type": "markdown",
      "metadata": {
        "id": "xwi9guo4nmm1"
      },
      "source": [
        "Now its your turn to define a model to learn this data. \n",
        "\n",
        "*A hint: Like with the CIFAR-10 assignment, your model may want to learn some high level features and then classify them. This time it may help to make the model a little wider at times.*"
      ]
    },
    {
      "cell_type": "code",
      "metadata": {
        "id": "vrJt6YSDcqjX",
        "outputId": "54ff90db-23c4-4325-9bed-0a6a22f4db65",
        "colab": {
          "base_uri": "https://localhost:8080/"
        }
      },
      "source": [
        "import tensorflow as tf\n",
        "model = tf.keras.models.Sequential([\n",
        "    tf.keras.layers.Conv2D(16, (3,3), activation='relu', input_shape=(224, 224, 3)),\n",
        "    tf.keras.layers.MaxPooling2D(2, 2),\n",
        "    tf.keras.layers.Conv2D(32, (3,3), activation='relu'),\n",
        "    tf.keras.layers.MaxPooling2D(2,2),\n",
        "    tf.keras.layers.Conv2D(64, (3,3), activation='relu'),\n",
        "    tf.keras.layers.MaxPooling2D(2,2),\n",
        "    tf.keras.layers.Flatten(),\n",
        "    tf.keras.layers.Dense(512, activation='relu'),\n",
        "    tf.keras.layers.Dense(3, activation='softmax')\n",
        "])\n",
        "\n",
        "# This will print a summary of your model when you're done!\n",
        "model.summary()"
      ],
      "execution_count": null,
      "outputs": [
        {
          "output_type": "stream",
          "text": [
            "Model: \"sequential_12\"\n",
            "_________________________________________________________________\n",
            "Layer (type)                 Output Shape              Param #   \n",
            "=================================================================\n",
            "conv2d_48 (Conv2D)           (None, 222, 222, 16)      448       \n",
            "_________________________________________________________________\n",
            "max_pooling2d_48 (MaxPooling (None, 111, 111, 16)      0         \n",
            "_________________________________________________________________\n",
            "conv2d_49 (Conv2D)           (None, 109, 109, 32)      4640      \n",
            "_________________________________________________________________\n",
            "max_pooling2d_49 (MaxPooling (None, 54, 54, 32)        0         \n",
            "_________________________________________________________________\n",
            "conv2d_50 (Conv2D)           (None, 52, 52, 64)        18496     \n",
            "_________________________________________________________________\n",
            "max_pooling2d_50 (MaxPooling (None, 26, 26, 64)        0         \n",
            "_________________________________________________________________\n",
            "flatten_12 (Flatten)         (None, 43264)             0         \n",
            "_________________________________________________________________\n",
            "dense_25 (Dense)             (None, 512)               22151680  \n",
            "_________________________________________________________________\n",
            "dense_26 (Dense)             (None, 3)                 1539      \n",
            "=================================================================\n",
            "Total params: 22,176,803\n",
            "Trainable params: 22,176,803\n",
            "Non-trainable params: 0\n",
            "_________________________________________________________________\n"
          ],
          "name": "stdout"
        }
      ]
    },
    {
      "cell_type": "markdown",
      "metadata": {
        "id": "etwjO_2pnmm4"
      },
      "source": [
        "Then you'll need to pick an appropriate loss function and optimizer.\n",
        "\n",
        "*A hint: remember we are classifying again.*"
      ]
    },
    {
      "cell_type": "code",
      "metadata": {
        "id": "nST6CyvCcy-2"
      },
      "source": [
        "from tensorflow.keras.optimizers import RMSprop\n",
        "\n",
        "#LOSS_FUNCTION = 'categorical_crossentropy'\n",
        "#OPTIMIZER = RMSprop(lr=0.0001)\n",
        "\n",
        "OPTIMIZER = 'adam'\n",
        "LOSS = 'categorical_crossentropy'\n",
        "\n",
        "\n",
        "model.compile(\n",
        "    loss = LOSS_FUNCTION,\n",
        "    optimizer = OPTIMIZER,\n",
        "    metrics = ['accuracy']\n",
        ")"
      ],
      "execution_count": null,
      "outputs": []
    },
    {
      "cell_type": "markdown",
      "metadata": {
        "id": "l9pW_FdLnmm8"
      },
      "source": [
        "Finally select the number of epochs you'd like to train for and train your model!\n",
        "\n",
        "*A hint: something in the low tens is a good place to start*"
      ]
    },
    {
      "cell_type": "code",
      "metadata": {
        "id": "Q3iK9LX9deu2",
        "outputId": "c0c436df-4144-42d3-d3eb-3ec632734463",
        "colab": {
          "base_uri": "https://localhost:8080/",
          "height": 992
        }
      },
      "source": [
        "from datetime import datetime\n",
        "start_time = datetime.now()\n",
        "\n",
        "NUM_EPOCHS = 20\n",
        "\n",
        "history = model.fit(\n",
        "      train_generator, \n",
        "      epochs = NUM_EPOCHS,\n",
        "      verbose = 1,\n",
        "      validation_data = validation_generator)\n",
        "\n",
        "# summarize history for accuracy\n",
        "import matplotlib.pyplot as plt\n",
        "plt.plot(history.history['accuracy'])\n",
        "plt.plot(history.history['val_accuracy'])\n",
        "plt.title('model accuracy')\n",
        "plt.ylabel('accuracy')\n",
        "plt.xlabel('epoch')\n",
        "plt.legend(['train', 'test'], loc='upper left')\n",
        "plt.xlim([0,NUM_EPOCHS])\n",
        "plt.ylim([0.4,1.0])\n",
        "plt.show()\n",
        "\n",
        "end_time = datetime.now()\n",
        "timediff = end_time - start_time\n",
        "print('Total seconds: %1.2f' % (timediff.total_seconds()))"
      ],
      "execution_count": null,
      "outputs": [
        {
          "output_type": "stream",
          "text": [
            "Epoch 1/20\n",
            "9/9 [==============================] - 18s 2s/step - loss: 0.6516 - accuracy: 0.7321 - val_loss: 0.5959 - val_accuracy: 0.7218\n",
            "Epoch 2/20\n",
            "9/9 [==============================] - 16s 2s/step - loss: 0.6341 - accuracy: 0.7195 - val_loss: 0.5743 - val_accuracy: 0.7218\n",
            "Epoch 3/20\n",
            "9/9 [==============================] - 16s 2s/step - loss: 0.6287 - accuracy: 0.7456 - val_loss: 0.5894 - val_accuracy: 0.7594\n",
            "Epoch 4/20\n",
            "9/9 [==============================] - 16s 2s/step - loss: 0.6424 - accuracy: 0.7311 - val_loss: 0.7394 - val_accuracy: 0.6541\n",
            "Epoch 5/20\n",
            "9/9 [==============================] - 16s 2s/step - loss: 0.6411 - accuracy: 0.7321 - val_loss: 0.4920 - val_accuracy: 0.8045\n",
            "Epoch 6/20\n",
            "9/9 [==============================] - 16s 2s/step - loss: 0.6348 - accuracy: 0.7147 - val_loss: 0.5339 - val_accuracy: 0.7744\n",
            "Epoch 7/20\n",
            "9/9 [==============================] - 16s 2s/step - loss: 0.5683 - accuracy: 0.7602 - val_loss: 0.5071 - val_accuracy: 0.7820\n",
            "Epoch 8/20\n",
            "9/9 [==============================] - 17s 2s/step - loss: 0.5583 - accuracy: 0.7418 - val_loss: 0.4775 - val_accuracy: 0.8120\n",
            "Epoch 9/20\n",
            "9/9 [==============================] - 16s 2s/step - loss: 0.5733 - accuracy: 0.7660 - val_loss: 0.4998 - val_accuracy: 0.8271\n",
            "Epoch 10/20\n",
            "9/9 [==============================] - 17s 2s/step - loss: 0.6188 - accuracy: 0.7340 - val_loss: 0.5315 - val_accuracy: 0.7970\n",
            "Epoch 11/20\n",
            "9/9 [==============================] - 16s 2s/step - loss: 0.5940 - accuracy: 0.7244 - val_loss: 0.6193 - val_accuracy: 0.7368\n",
            "Epoch 12/20\n",
            "9/9 [==============================] - 17s 2s/step - loss: 0.5928 - accuracy: 0.7447 - val_loss: 0.5104 - val_accuracy: 0.7744\n",
            "Epoch 13/20\n",
            "9/9 [==============================] - 16s 2s/step - loss: 0.5423 - accuracy: 0.7660 - val_loss: 0.6055 - val_accuracy: 0.7218\n",
            "Epoch 14/20\n",
            "9/9 [==============================] - 16s 2s/step - loss: 0.5807 - accuracy: 0.7389 - val_loss: 0.5128 - val_accuracy: 0.7820\n",
            "Epoch 15/20\n",
            "9/9 [==============================] - 16s 2s/step - loss: 0.5436 - accuracy: 0.7669 - val_loss: 0.4838 - val_accuracy: 0.8120\n",
            "Epoch 16/20\n",
            "9/9 [==============================] - 16s 2s/step - loss: 0.5356 - accuracy: 0.7737 - val_loss: 0.5062 - val_accuracy: 0.8120\n",
            "Epoch 17/20\n",
            "9/9 [==============================] - 18s 2s/step - loss: 0.5132 - accuracy: 0.7698 - val_loss: 0.5094 - val_accuracy: 0.7519\n",
            "Epoch 18/20\n",
            "9/9 [==============================] - 16s 2s/step - loss: 0.5598 - accuracy: 0.7573 - val_loss: 0.4926 - val_accuracy: 0.7820\n",
            "Epoch 19/20\n",
            "9/9 [==============================] - 16s 2s/step - loss: 0.5088 - accuracy: 0.7940 - val_loss: 0.4492 - val_accuracy: 0.8195\n",
            "Epoch 20/20\n",
            "9/9 [==============================] - 16s 2s/step - loss: 0.5405 - accuracy: 0.7650 - val_loss: 0.4809 - val_accuracy: 0.7895\n"
          ],
          "name": "stdout"
        },
        {
          "output_type": "display_data",
          "data": {
            "image/png": "[encoded data removed]",
            "text/plain": [
              "<Figure size 432x288 with 1 Axes>"
            ]
          },
          "metadata": {
            "tags": [],
            "needs_background": "light"
          }
        },
        {
          "output_type": "stream",
          "text": [
            "Total seconds: 357.73\n"
          ],
          "name": "stdout"
        }
      ]
    }
  ]
}